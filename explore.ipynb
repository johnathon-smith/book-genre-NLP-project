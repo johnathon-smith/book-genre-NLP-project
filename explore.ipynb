{
 "cells": [
  {
   "cell_type": "markdown",
   "id": "cc490dee",
   "metadata": {},
   "source": [
    "# Explore the Data"
   ]
  },
  {
   "cell_type": "code",
   "execution_count": 13,
   "id": "31d07de5",
   "metadata": {},
   "outputs": [],
   "source": [
    "import numpy as np\n",
    "import pandas as pd\n",
    "\n",
    "from sklearn.model_selection import train_test_split\n",
    "\n",
    "import matplotlib.pyplot as plt\n",
    "import seaborn as sns\n",
    "\n",
    "import scipy.stats as stats\n",
    "\n",
    "import nltk\n",
    "import nltk.sentiment\n",
    "from wordcloud import WordCloud"
   ]
  },
  {
   "cell_type": "markdown",
   "id": "5ccddb26",
   "metadata": {},
   "source": [
    "### Load the Data"
   ]
  },
  {
   "cell_type": "code",
   "execution_count": 2,
   "id": "ae706c47",
   "metadata": {},
   "outputs": [],
   "source": [
    "blurbs = pd.read_csv('cleaned_book_blurbs.csv')"
   ]
  },
  {
   "cell_type": "code",
   "execution_count": 3,
   "id": "543fa33e",
   "metadata": {},
   "outputs": [
    {
     "data": {
      "text/html": [
       "<div>\n",
       "<style scoped>\n",
       "    .dataframe tbody tr th:only-of-type {\n",
       "        vertical-align: middle;\n",
       "    }\n",
       "\n",
       "    .dataframe tbody tr th {\n",
       "        vertical-align: top;\n",
       "    }\n",
       "\n",
       "    .dataframe thead th {\n",
       "        text-align: right;\n",
       "    }\n",
       "</style>\n",
       "<table border=\"1\" class=\"dataframe\">\n",
       "  <thead>\n",
       "    <tr style=\"text-align: right;\">\n",
       "      <th></th>\n",
       "      <th>genre</th>\n",
       "      <th>sub-genre</th>\n",
       "      <th>original</th>\n",
       "      <th>clean</th>\n",
       "      <th>stemmed</th>\n",
       "      <th>lemmatized</th>\n",
       "    </tr>\n",
       "  </thead>\n",
       "  <tbody>\n",
       "    <tr>\n",
       "      <th>0</th>\n",
       "      <td>Horror</td>\n",
       "      <td>ghost-stories</td>\n",
       "      <td>Designed to appeal to the book lover, the Macm...</td>\n",
       "      <td>designed appeal book lover macmillan collector...</td>\n",
       "      <td>design appeal book lover macmillan collector '...</td>\n",
       "      <td>designed appeal book lover macmillan collector...</td>\n",
       "    </tr>\n",
       "    <tr>\n",
       "      <th>1</th>\n",
       "      <td>Horror</td>\n",
       "      <td>ghost-stories</td>\n",
       "      <td>Part of the Penguin Orange Collection, a limit...</td>\n",
       "      <td>part penguin orange collection limitedrun seri...</td>\n",
       "      <td>part penguin orang collect limitedrun seri twe...</td>\n",
       "      <td>part penguin orange collection limitedrun seri...</td>\n",
       "    </tr>\n",
       "    <tr>\n",
       "      <th>2</th>\n",
       "      <td>Horror</td>\n",
       "      <td>ghost-stories</td>\n",
       "      <td>Part of a new six-volume series of the best in...</td>\n",
       "      <td>part new sixvolume series best classic horror ...</td>\n",
       "      <td>part new sixvolum seri best classic horror sel...</td>\n",
       "      <td>part new sixvolume series best classic horror ...</td>\n",
       "    </tr>\n",
       "    <tr>\n",
       "      <th>3</th>\n",
       "      <td>Horror</td>\n",
       "      <td>ghost-stories</td>\n",
       "      <td>A USA TODAY BESTSELLER!An Indie Next Pick!An O...</td>\n",
       "      <td>usa today bestselleran indie next pickan octob...</td>\n",
       "      <td>usa today bestselleran indi next pickan octob ...</td>\n",
       "      <td>usa today bestselleran indie next pickan octob...</td>\n",
       "    </tr>\n",
       "    <tr>\n",
       "      <th>4</th>\n",
       "      <td>Horror</td>\n",
       "      <td>ghost-stories</td>\n",
       "      <td>From the New York Times best-selling author of...</td>\n",
       "      <td>new york times bestselling author southern boo...</td>\n",
       "      <td>new york time bestsel author southern book clu...</td>\n",
       "      <td>new york time bestselling author southern book...</td>\n",
       "    </tr>\n",
       "  </tbody>\n",
       "</table>\n",
       "</div>"
      ],
      "text/plain": [
       "    genre      sub-genre                                           original  \\\n",
       "0  Horror  ghost-stories  Designed to appeal to the book lover, the Macm...   \n",
       "1  Horror  ghost-stories  Part of the Penguin Orange Collection, a limit...   \n",
       "2  Horror  ghost-stories  Part of a new six-volume series of the best in...   \n",
       "3  Horror  ghost-stories  A USA TODAY BESTSELLER!An Indie Next Pick!An O...   \n",
       "4  Horror  ghost-stories  From the New York Times best-selling author of...   \n",
       "\n",
       "                                               clean  \\\n",
       "0  designed appeal book lover macmillan collector...   \n",
       "1  part penguin orange collection limitedrun seri...   \n",
       "2  part new sixvolume series best classic horror ...   \n",
       "3  usa today bestselleran indie next pickan octob...   \n",
       "4  new york times bestselling author southern boo...   \n",
       "\n",
       "                                             stemmed  \\\n",
       "0  design appeal book lover macmillan collector '...   \n",
       "1  part penguin orang collect limitedrun seri twe...   \n",
       "2  part new sixvolum seri best classic horror sel...   \n",
       "3  usa today bestselleran indi next pickan octob ...   \n",
       "4  new york time bestsel author southern book clu...   \n",
       "\n",
       "                                          lemmatized  \n",
       "0  designed appeal book lover macmillan collector...  \n",
       "1  part penguin orange collection limitedrun seri...  \n",
       "2  part new sixvolume series best classic horror ...  \n",
       "3  usa today bestselleran indie next pickan octob...  \n",
       "4  new york time bestselling author southern book...  "
      ]
     },
     "execution_count": 3,
     "metadata": {},
     "output_type": "execute_result"
    }
   ],
   "source": [
    "blurbs.head()"
   ]
  },
  {
   "cell_type": "code",
   "execution_count": 4,
   "id": "b1fc848d",
   "metadata": {},
   "outputs": [
    {
     "name": "stdout",
     "output_type": "stream",
     "text": [
      "<class 'pandas.core.frame.DataFrame'>\n",
      "RangeIndex: 21415 entries, 0 to 21414\n",
      "Data columns (total 6 columns):\n",
      " #   Column      Non-Null Count  Dtype \n",
      "---  ------      --------------  ----- \n",
      " 0   genre       21415 non-null  object\n",
      " 1   sub-genre   21415 non-null  object\n",
      " 2   original    21414 non-null  object\n",
      " 3   clean       21415 non-null  object\n",
      " 4   stemmed     21415 non-null  object\n",
      " 5   lemmatized  21415 non-null  object\n",
      "dtypes: object(6)\n",
      "memory usage: 1004.0+ KB\n"
     ]
    }
   ],
   "source": [
    "blurbs.info()"
   ]
  },
  {
   "cell_type": "markdown",
   "id": "f9dbb84f",
   "metadata": {},
   "source": [
    "### Split the Data\n",
    "\n",
    "Exploration should only be done on the training data set."
   ]
  },
  {
   "cell_type": "code",
   "execution_count": 23,
   "id": "ed3df18e",
   "metadata": {},
   "outputs": [
    {
     "data": {
      "text/plain": [
       "((16061, 6), (5354, 6))"
      ]
     },
     "execution_count": 23,
     "metadata": {},
     "output_type": "execute_result"
    }
   ],
   "source": [
    "train, test = train_test_split(blurbs, stratify = blurbs.genre, test_size = .25, random_state = 123)\n",
    "train.shape, test.shape"
   ]
  },
  {
   "cell_type": "markdown",
   "id": "f9788927",
   "metadata": {},
   "source": [
    "### Combine Blurbs\n",
    "\n",
    "For exploration, I will combine all of the lemmatized blurbs into one mass of text for each genre. Don't forget to only use training data."
   ]
  },
  {
   "cell_type": "code",
   "execution_count": 24,
   "id": "da4648dd",
   "metadata": {},
   "outputs": [],
   "source": [
    "#Create mass of text for horror genre\n",
    "horror_blurbs = train[train.genre == 'Horror']\n",
    "horror_words = ' '.join(horror_blurbs.lemmatized)"
   ]
  },
  {
   "cell_type": "code",
   "execution_count": 25,
   "id": "7fe685ab",
   "metadata": {},
   "outputs": [],
   "source": [
    "#Create mass of text for romance genre\n",
    "romance_blurbs = train[train.genre == 'Romance']\n",
    "romance_words = ' '.join(romance_blurbs.lemmatized)"
   ]
  },
  {
   "cell_type": "code",
   "execution_count": 26,
   "id": "65b497fe",
   "metadata": {},
   "outputs": [],
   "source": [
    "#Create mass of text for Mystery and Crime genre\n",
    "mystery_blurbs = train[train.genre == 'Mystery and Crime']\n",
    "mystery_words = ' '.join(mystery_blurbs.lemmatized)"
   ]
  },
  {
   "cell_type": "code",
   "execution_count": 27,
   "id": "a19c5548",
   "metadata": {},
   "outputs": [],
   "source": [
    "#Create mass of text for Sci-Fi and Fantasy genre\n",
    "fantasy_blurbs = train[train.genre == 'Sci-Fi and Fantasy']\n",
    "fantasy_words = ' '.join(fantasy_blurbs.lemmatized)"
   ]
  },
  {
   "cell_type": "markdown",
   "id": "6b78bf7d",
   "metadata": {},
   "source": [
    "### Begin Exploring\n",
    "\n",
    "What are the top 5 most common words in the horror blurbs?"
   ]
  },
  {
   "cell_type": "code",
   "execution_count": 29,
   "id": "ce5e7123",
   "metadata": {},
   "outputs": [],
   "source": [
    "horror_freq = pd.Series(horror_words.split()).value_counts()"
   ]
  },
  {
   "cell_type": "code",
   "execution_count": 34,
   "id": "7f2ffd3b",
   "metadata": {},
   "outputs": [
    {
     "data": {
      "text/plain": [
       "'         9794\n",
       "ha        3190\n",
       "story     3104\n",
       "one       2649\n",
       "new       2501\n",
       "horror    2200\n",
       "dtype: int64"
      ]
     },
     "execution_count": 34,
     "metadata": {},
     "output_type": "execute_result"
    }
   ],
   "source": [
    "horror_freq.sort_values(ascending = False).head(6)"
   ]
  },
  {
   "cell_type": "code",
   "execution_count": null,
   "id": "bb9d6390",
   "metadata": {},
   "outputs": [],
   "source": []
  }
 ],
 "metadata": {
  "kernelspec": {
   "display_name": "Python 3",
   "language": "python",
   "name": "python3"
  },
  "language_info": {
   "codemirror_mode": {
    "name": "ipython",
    "version": 3
   },
   "file_extension": ".py",
   "mimetype": "text/x-python",
   "name": "python",
   "nbconvert_exporter": "python",
   "pygments_lexer": "ipython3",
   "version": "3.9.1"
  }
 },
 "nbformat": 4,
 "nbformat_minor": 5
}
