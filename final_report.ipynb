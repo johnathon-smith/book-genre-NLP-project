{
 "cells": [
  {
   "cell_type": "markdown",
   "id": "6fc2028d",
   "metadata": {},
   "source": [
    "# Classifying Genre with Book Descriptions\n",
    "\n",
    "By: Johnathon Smith\n",
    "\n",
    "Date: Dec 28, 2021\n",
    "***\n",
    "\n",
    "### Executive Summary\n",
    "***\n",
    "\n",
    "__Project Goal__\n",
    "\n",
    "The goal of this project was to build a model capable of accurately classifying a book's genre as Horror, Romance, Mystery and Crime, or Sci-Fi and Fantasy based on its cover blurb, or description. Does the description actually describe the book or is it just designed to sell it?\n",
    "\n",
    "__Overall Findings__\n",
    "\n",
    "* There are consistent patterns between each genre that allow them to be accurately classified.\n",
    "* My best model had a Mean Cross-Validated Accuracy of about 88%.\n",
    "\n",
    "***\n",
    "\n",
    "### My Process\n",
    "\n",
    "* Write a README.md file that details my process, my findings, and instructions on how to recreate my project.\n",
    "* Acquire the data by web scraping the book descriptions and genres from the Barnes & Noble website.\n",
    "* Clean and prepare the data:\n",
    "    * Change all characters to lowercase\n",
    "    * Normalize and encode the characters\n",
    "    * Replace anything that is not a letter, number, whitespace, or a single quote\n",
    "    * Tokenize the strings\n",
    "    * Remove stop words\n",
    "    * Create Stemmed and Lemmatized versions of each string\n",
    "    * Create engineered features\n",
    "* Explore the train data set and look for identifying features for each genre.\n",
    "* Set baseline using the Dummy Classifier.\n",
    "* Create and evaluate models on train data set using GridSearchCV.\n",
    "* Choose best model and evaluate it on test data set.\n",
    "* Document conclusions, takeaways, and next steps in the Final Report Notebook.\n",
    "\n",
    "***\n",
    "\n",
    "### Necessary Imports"
   ]
  },
  {
   "cell_type": "code",
   "execution_count": 1,
   "id": "2229060b",
   "metadata": {},
   "outputs": [],
   "source": [
    "import numpy as np\n",
    "import pandas as pd\n",
    "\n",
    "import scipy.stats as stats\n",
    "\n",
    "#Custom modules\n",
    "import acquire\n",
    "import prepare\n",
    "import explore\n",
    "import model"
   ]
  },
  {
   "cell_type": "markdown",
   "id": "7f44163d",
   "metadata": {},
   "source": [
    "### Wrangle\n",
    "\n",
    "***\n",
    "\n",
    "| Target | Datatype | Definition |\n",
    "|:-------|:---------|:-----------|\n",
    "| genre | String | The overall genre of the book according to the Barnes & Noble website. |\n",
    "\n",
    "\n",
    "| Feature | Datatype | Definition |\n",
    "|:--------|:---------|:----------- |\n",
    "| sub-genre | String | The subject of the book according to the Barnes & Noble website. |\n",
    "| original | String | The original book description as found on the Barnes & Noble website. |\n",
    "| clean | String | The cleaned version of the book description. |\n",
    "| stemmed | String | The cleaned, stemmed version of the book description. |\n",
    "| lemmatized | String | The cleaned, lemmatized version of the book description. |\n",
    "| lem_char_count | int | The character count of the lemmatized book description. |\n",
    "| lem_word_count | int | The word count of the lemmatized book description. |\n",
    "| lem_unique_word_count | int | The unique word count of the lemmatized book description. |\n",
    "| sentence_count | int | The sentence count of the original book description. |\n",
    "| avg_words_per_sentence | int | The average number of words per sentence. |\n",
    "| sentiment | float | The compound sentiment analysis score. Ranges from -1 to 1. |\n",
    "| stopword_count | int | The number of stopwords found in the original description. |\n",
    "| word_stopword_ratio | float | The ratio of stopwords to all other words found in the description. |"
   ]
  },
  {
   "cell_type": "markdown",
   "id": "ea61d778",
   "metadata": {},
   "source": [
    "__Acquire the Data__\n",
    "\n",
    "The following line of code will begin webscraping the Barnes & Noble website for all book descriptions across the Horror, Romance, Mystery and Crime, and Sci-Fi and Fantasy genres. Since this takes hours to complete, I suggest loading the pre-made dataset. If you choose to run the function, please understand that it will take time to complete and may not run at all if the website's structure has changed since I wrote it. It originally took about 8 hours to gather all of the data."
   ]
  },
  {
   "cell_type": "code",
   "execution_count": 2,
   "id": "36203f41",
   "metadata": {},
   "outputs": [],
   "source": [
    "#Acquire the original data\n",
    "#book_blurbs = acquire.acquire_data()"
   ]
  },
  {
   "cell_type": "markdown",
   "id": "f24d18ed",
   "metadata": {},
   "source": [
    "__Prepare the Data__\n",
    "\n",
    "The following line of code will prepare the original webscraped data. Only run it if you chose to run the previous line of code."
   ]
  },
  {
   "cell_type": "code",
   "execution_count": 3,
   "id": "9e5aafdb",
   "metadata": {},
   "outputs": [],
   "source": [
    "#Prepare the data\n",
    "#book_blurbs = prepare.prepare_articles(book_blurbs, 'blurb')"
   ]
  },
  {
   "cell_type": "markdown",
   "id": "f937cf6e",
   "metadata": {},
   "source": [
    "__Load the Prepared Dataset__\n",
    "\n",
    "This is the suggested and default action when running this notebook. It will load the prepared data from a saved .csv file."
   ]
  },
  {
   "cell_type": "code",
   "execution_count": 4,
   "id": "b2dd0726",
   "metadata": {},
   "outputs": [],
   "source": [
    "#Load the prepared data\n",
    "book_blurbs = pd.read_csv('cleaned_book_blurbs.csv')"
   ]
  },
  {
   "cell_type": "markdown",
   "id": "f657d1d1",
   "metadata": {},
   "source": [
    "__Brief Overview__\n",
    "\n",
    "Take a quick look at the data before moving on to the explore section."
   ]
  },
  {
   "cell_type": "code",
   "execution_count": 5,
   "id": "4cba37d5",
   "metadata": {},
   "outputs": [
    {
     "data": {
      "text/html": [
       "<div>\n",
       "<style scoped>\n",
       "    .dataframe tbody tr th:only-of-type {\n",
       "        vertical-align: middle;\n",
       "    }\n",
       "\n",
       "    .dataframe tbody tr th {\n",
       "        vertical-align: top;\n",
       "    }\n",
       "\n",
       "    .dataframe thead th {\n",
       "        text-align: right;\n",
       "    }\n",
       "</style>\n",
       "<table border=\"1\" class=\"dataframe\">\n",
       "  <thead>\n",
       "    <tr style=\"text-align: right;\">\n",
       "      <th></th>\n",
       "      <th>genre</th>\n",
       "      <th>sub-genre</th>\n",
       "      <th>original</th>\n",
       "      <th>clean</th>\n",
       "      <th>stemmed</th>\n",
       "      <th>lemmatized</th>\n",
       "    </tr>\n",
       "  </thead>\n",
       "  <tbody>\n",
       "    <tr>\n",
       "      <th>0</th>\n",
       "      <td>Horror</td>\n",
       "      <td>ghost-stories</td>\n",
       "      <td>Designed to appeal to the book lover, the Macm...</td>\n",
       "      <td>designed appeal book lover macmillan collector...</td>\n",
       "      <td>design appeal book lover macmillan collector '...</td>\n",
       "      <td>designed appeal book lover macmillan collector...</td>\n",
       "    </tr>\n",
       "    <tr>\n",
       "      <th>1</th>\n",
       "      <td>Horror</td>\n",
       "      <td>ghost-stories</td>\n",
       "      <td>Part of the Penguin Orange Collection, a limit...</td>\n",
       "      <td>part penguin orange collection limitedrun seri...</td>\n",
       "      <td>part penguin orang collect limitedrun seri twe...</td>\n",
       "      <td>part penguin orange collection limitedrun seri...</td>\n",
       "    </tr>\n",
       "    <tr>\n",
       "      <th>2</th>\n",
       "      <td>Horror</td>\n",
       "      <td>ghost-stories</td>\n",
       "      <td>Part of a new six-volume series of the best in...</td>\n",
       "      <td>part new sixvolume series best classic horror ...</td>\n",
       "      <td>part new sixvolum seri best classic horror sel...</td>\n",
       "      <td>part new sixvolume series best classic horror ...</td>\n",
       "    </tr>\n",
       "    <tr>\n",
       "      <th>3</th>\n",
       "      <td>Horror</td>\n",
       "      <td>ghost-stories</td>\n",
       "      <td>A USA TODAY BESTSELLER!An Indie Next Pick!An O...</td>\n",
       "      <td>usa today bestselleran indie next pickan octob...</td>\n",
       "      <td>usa today bestselleran indi next pickan octob ...</td>\n",
       "      <td>usa today bestselleran indie next pickan octob...</td>\n",
       "    </tr>\n",
       "    <tr>\n",
       "      <th>4</th>\n",
       "      <td>Horror</td>\n",
       "      <td>ghost-stories</td>\n",
       "      <td>From the New York Times best-selling author of...</td>\n",
       "      <td>new york times bestselling author southern boo...</td>\n",
       "      <td>new york time bestsel author southern book clu...</td>\n",
       "      <td>new york time bestselling author southern book...</td>\n",
       "    </tr>\n",
       "  </tbody>\n",
       "</table>\n",
       "</div>"
      ],
      "text/plain": [
       "    genre      sub-genre                                           original  \\\n",
       "0  Horror  ghost-stories  Designed to appeal to the book lover, the Macm...   \n",
       "1  Horror  ghost-stories  Part of the Penguin Orange Collection, a limit...   \n",
       "2  Horror  ghost-stories  Part of a new six-volume series of the best in...   \n",
       "3  Horror  ghost-stories  A USA TODAY BESTSELLER!An Indie Next Pick!An O...   \n",
       "4  Horror  ghost-stories  From the New York Times best-selling author of...   \n",
       "\n",
       "                                               clean  \\\n",
       "0  designed appeal book lover macmillan collector...   \n",
       "1  part penguin orange collection limitedrun seri...   \n",
       "2  part new sixvolume series best classic horror ...   \n",
       "3  usa today bestselleran indie next pickan octob...   \n",
       "4  new york times bestselling author southern boo...   \n",
       "\n",
       "                                             stemmed  \\\n",
       "0  design appeal book lover macmillan collector '...   \n",
       "1  part penguin orang collect limitedrun seri twe...   \n",
       "2  part new sixvolum seri best classic horror sel...   \n",
       "3  usa today bestselleran indi next pickan octob ...   \n",
       "4  new york time bestsel author southern book clu...   \n",
       "\n",
       "                                          lemmatized  \n",
       "0  designed appeal book lover macmillan collector...  \n",
       "1  part penguin orange collection limitedrun seri...  \n",
       "2  part new sixvolume series best classic horror ...  \n",
       "3  usa today bestselleran indie next pickan octob...  \n",
       "4  new york time bestselling author southern book...  "
      ]
     },
     "execution_count": 5,
     "metadata": {},
     "output_type": "execute_result"
    }
   ],
   "source": [
    "book_blurbs.head()"
   ]
  },
  {
   "cell_type": "code",
   "execution_count": 6,
   "id": "19e1688c",
   "metadata": {},
   "outputs": [
    {
     "name": "stdout",
     "output_type": "stream",
     "text": [
      "<class 'pandas.core.frame.DataFrame'>\n",
      "RangeIndex: 21414 entries, 0 to 21413\n",
      "Data columns (total 6 columns):\n",
      " #   Column      Non-Null Count  Dtype \n",
      "---  ------      --------------  ----- \n",
      " 0   genre       21414 non-null  object\n",
      " 1   sub-genre   21414 non-null  object\n",
      " 2   original    21414 non-null  object\n",
      " 3   clean       21414 non-null  object\n",
      " 4   stemmed     21414 non-null  object\n",
      " 5   lemmatized  21414 non-null  object\n",
      "dtypes: object(6)\n",
      "memory usage: 1003.9+ KB\n"
     ]
    }
   ],
   "source": [
    "book_blurbs.info()"
   ]
  },
  {
   "cell_type": "markdown",
   "id": "afe0d07f",
   "metadata": {},
   "source": [
    "__Target Distribution__\n",
    "\n",
    "What is the distribution of the target variable?"
   ]
  },
  {
   "cell_type": "code",
   "execution_count": 7,
   "id": "c857105f",
   "metadata": {},
   "outputs": [
    {
     "data": {
      "text/plain": [
       "Sci-Fi and Fantasy    0.317596\n",
       "Horror                0.300551\n",
       "Mystery and Crime     0.206734\n",
       "Romance               0.175119\n",
       "Name: genre, dtype: float64"
      ]
     },
     "execution_count": 7,
     "metadata": {},
     "output_type": "execute_result"
    }
   ],
   "source": [
    "book_blurbs.genre.value_counts(normalize = True)"
   ]
  },
  {
   "cell_type": "markdown",
   "id": "f3cfa7a3",
   "metadata": {},
   "source": [
    "Although the Mystery and Romance genres have lower counts than the others, I don't think these numbers warrant resampling."
   ]
  },
  {
   "cell_type": "markdown",
   "id": "f1ad97e5",
   "metadata": {},
   "source": [
    "__Key Takeaways__\n",
    "\n",
    "* There are 4 different overall genres.\n",
    "* There are 21,414 total entries.\n",
    "* The target variable is not perfectly balanced, but I chose not to resample.\n",
    "* Created cleaned, stemmed, and lemmatized versions of the original book descriptions."
   ]
  },
  {
   "cell_type": "markdown",
   "id": "da2d6365",
   "metadata": {},
   "source": [
    "***\n",
    "### Explore\n",
    "\n",
    "Create new features to explore with. This may take some time."
   ]
  },
  {
   "cell_type": "code",
   "execution_count": 8,
   "id": "5d691406",
   "metadata": {},
   "outputs": [],
   "source": [
    "#The following function call adds engineered features to the data set.\n",
    "#book_blurbs = prepare.prep_for_exploration(book_blurbs)\n",
    "\n",
    "book_blurbs = pd.read_csv('blurbs_for_exploration.csv')"
   ]
  },
  {
   "cell_type": "markdown",
   "id": "b295b46d",
   "metadata": {},
   "source": [
    "__Splitting the Data__\n",
    "\n",
    "I will split the data into train and test sets. A validate set will not be necessary because I will be utilizing cross-validation in my modeling section."
   ]
  },
  {
   "cell_type": "code",
   "execution_count": 10,
   "id": "9541f07a",
   "metadata": {},
   "outputs": [
    {
     "data": {
      "text/plain": [
       "((16060, 14), (5354, 14))"
      ]
     },
     "execution_count": 10,
     "metadata": {},
     "output_type": "execute_result"
    }
   ],
   "source": [
    "train, test = prepare.split(book_blurbs)\n",
    "train.shape, test.shape"
   ]
  },
  {
   "cell_type": "code",
   "execution_count": 11,
   "id": "022a1980",
   "metadata": {},
   "outputs": [
    {
     "data": {
      "text/html": [
       "<div>\n",
       "<style scoped>\n",
       "    .dataframe tbody tr th:only-of-type {\n",
       "        vertical-align: middle;\n",
       "    }\n",
       "\n",
       "    .dataframe tbody tr th {\n",
       "        vertical-align: top;\n",
       "    }\n",
       "\n",
       "    .dataframe thead th {\n",
       "        text-align: right;\n",
       "    }\n",
       "</style>\n",
       "<table border=\"1\" class=\"dataframe\">\n",
       "  <thead>\n",
       "    <tr style=\"text-align: right;\">\n",
       "      <th></th>\n",
       "      <th>genre</th>\n",
       "      <th>sub-genre</th>\n",
       "      <th>original</th>\n",
       "      <th>clean</th>\n",
       "      <th>stemmed</th>\n",
       "      <th>lemmatized</th>\n",
       "      <th>lem_char_count</th>\n",
       "      <th>lem_word_count</th>\n",
       "      <th>lem_unique_word_count</th>\n",
       "      <th>sentence_count</th>\n",
       "      <th>avg_words_per_sentence</th>\n",
       "      <th>sentiment</th>\n",
       "      <th>stopword_count</th>\n",
       "      <th>word_stopword_ratio</th>\n",
       "    </tr>\n",
       "  </thead>\n",
       "  <tbody>\n",
       "    <tr>\n",
       "      <th>17405</th>\n",
       "      <td>Sci-Fi and Fantasy</td>\n",
       "      <td>other-fantasy-fiction-categories</td>\n",
       "      <td>A charmingly witty fantasy adventure starring ...</td>\n",
       "      <td>charmingly witty fantasy adventure starring gr...</td>\n",
       "      <td>charmingli witti fantasi adventur star greta h...</td>\n",
       "      <td>charmingly witty fantasy adventure starring gr...</td>\n",
       "      <td>1140</td>\n",
       "      <td>152</td>\n",
       "      <td>128</td>\n",
       "      <td>8</td>\n",
       "      <td>19</td>\n",
       "      <td>0.9734</td>\n",
       "      <td>78</td>\n",
       "      <td>0.51</td>\n",
       "    </tr>\n",
       "    <tr>\n",
       "      <th>11323</th>\n",
       "      <td>Mystery and Crime</td>\n",
       "      <td>crime-fiction</td>\n",
       "      <td>A #1 New York Times BestsellerVirgil Flowers i...</td>\n",
       "      <td>1 new york times bestsellervirgil flowers inve...</td>\n",
       "      <td>1 new york time bestsellervirgil flower invest...</td>\n",
       "      <td>1 new york time bestsellervirgil flower invest...</td>\n",
       "      <td>671</td>\n",
       "      <td>89</td>\n",
       "      <td>82</td>\n",
       "      <td>10</td>\n",
       "      <td>9</td>\n",
       "      <td>0.7574</td>\n",
       "      <td>48</td>\n",
       "      <td>0.54</td>\n",
       "    </tr>\n",
       "    <tr>\n",
       "      <th>18975</th>\n",
       "      <td>Sci-Fi and Fantasy</td>\n",
       "      <td>science-fiction-fantasy-media-tie-in-fiction</td>\n",
       "      <td>An original novel set in the Halo Universe and...</td>\n",
       "      <td>original novel set halo universe based new yor...</td>\n",
       "      <td>origin novel set halo univers base new york ti...</td>\n",
       "      <td>original novel set halo universe based new yor...</td>\n",
       "      <td>965</td>\n",
       "      <td>126</td>\n",
       "      <td>119</td>\n",
       "      <td>6</td>\n",
       "      <td>21</td>\n",
       "      <td>-0.9531</td>\n",
       "      <td>76</td>\n",
       "      <td>0.60</td>\n",
       "    </tr>\n",
       "    <tr>\n",
       "      <th>8934</th>\n",
       "      <td>Romance</td>\n",
       "      <td>other-romance-categories</td>\n",
       "      <td>New York Times bestselling author Michelle Sag...</td>\n",
       "      <td>new york times bestselling author michelle sag...</td>\n",
       "      <td>new york time bestsel author michel sagara swe...</td>\n",
       "      <td>new york time bestselling author michelle saga...</td>\n",
       "      <td>904</td>\n",
       "      <td>130</td>\n",
       "      <td>110</td>\n",
       "      <td>7</td>\n",
       "      <td>19</td>\n",
       "      <td>-0.9698</td>\n",
       "      <td>85</td>\n",
       "      <td>0.65</td>\n",
       "    </tr>\n",
       "    <tr>\n",
       "      <th>594</th>\n",
       "      <td>Horror</td>\n",
       "      <td>ghost-stories-other</td>\n",
       "      <td>When a late night storm drives a young couple ...</td>\n",
       "      <td>late night storm drives young couple take refu...</td>\n",
       "      <td>late night storm drive young coupl take refug ...</td>\n",
       "      <td>late night storm drive young couple take refug...</td>\n",
       "      <td>975</td>\n",
       "      <td>140</td>\n",
       "      <td>125</td>\n",
       "      <td>8</td>\n",
       "      <td>18</td>\n",
       "      <td>0.2003</td>\n",
       "      <td>114</td>\n",
       "      <td>0.81</td>\n",
       "    </tr>\n",
       "  </tbody>\n",
       "</table>\n",
       "</div>"
      ],
      "text/plain": [
       "                    genre                                     sub-genre  \\\n",
       "17405  Sci-Fi and Fantasy              other-fantasy-fiction-categories   \n",
       "11323   Mystery and Crime                                 crime-fiction   \n",
       "18975  Sci-Fi and Fantasy  science-fiction-fantasy-media-tie-in-fiction   \n",
       "8934              Romance                      other-romance-categories   \n",
       "594                Horror                           ghost-stories-other   \n",
       "\n",
       "                                                original  \\\n",
       "17405  A charmingly witty fantasy adventure starring ...   \n",
       "11323  A #1 New York Times BestsellerVirgil Flowers i...   \n",
       "18975  An original novel set in the Halo Universe and...   \n",
       "8934   New York Times bestselling author Michelle Sag...   \n",
       "594    When a late night storm drives a young couple ...   \n",
       "\n",
       "                                                   clean  \\\n",
       "17405  charmingly witty fantasy adventure starring gr...   \n",
       "11323  1 new york times bestsellervirgil flowers inve...   \n",
       "18975  original novel set halo universe based new yor...   \n",
       "8934   new york times bestselling author michelle sag...   \n",
       "594    late night storm drives young couple take refu...   \n",
       "\n",
       "                                                 stemmed  \\\n",
       "17405  charmingli witti fantasi adventur star greta h...   \n",
       "11323  1 new york time bestsellervirgil flower invest...   \n",
       "18975  origin novel set halo univers base new york ti...   \n",
       "8934   new york time bestsel author michel sagara swe...   \n",
       "594    late night storm drive young coupl take refug ...   \n",
       "\n",
       "                                              lemmatized  lem_char_count  \\\n",
       "17405  charmingly witty fantasy adventure starring gr...            1140   \n",
       "11323  1 new york time bestsellervirgil flower invest...             671   \n",
       "18975  original novel set halo universe based new yor...             965   \n",
       "8934   new york time bestselling author michelle saga...             904   \n",
       "594    late night storm drive young couple take refug...             975   \n",
       "\n",
       "       lem_word_count  lem_unique_word_count  sentence_count  \\\n",
       "17405             152                    128               8   \n",
       "11323              89                     82              10   \n",
       "18975             126                    119               6   \n",
       "8934              130                    110               7   \n",
       "594               140                    125               8   \n",
       "\n",
       "       avg_words_per_sentence  sentiment  stopword_count  word_stopword_ratio  \n",
       "17405                      19     0.9734              78                 0.51  \n",
       "11323                       9     0.7574              48                 0.54  \n",
       "18975                      21    -0.9531              76                 0.60  \n",
       "8934                       19    -0.9698              85                 0.65  \n",
       "594                        18     0.2003             114                 0.81  "
      ]
     },
     "execution_count": 11,
     "metadata": {},
     "output_type": "execute_result"
    }
   ],
   "source": [
    "#Take a look at the engineered features \n",
    "train.head()"
   ]
  },
  {
   "cell_type": "code",
   "execution_count": null,
   "id": "09ec5ff1",
   "metadata": {},
   "outputs": [],
   "source": []
  }
 ],
 "metadata": {
  "kernelspec": {
   "display_name": "Python 3",
   "language": "python",
   "name": "python3"
  },
  "language_info": {
   "codemirror_mode": {
    "name": "ipython",
    "version": 3
   },
   "file_extension": ".py",
   "mimetype": "text/x-python",
   "name": "python",
   "nbconvert_exporter": "python",
   "pygments_lexer": "ipython3",
   "version": "3.9.1"
  }
 },
 "nbformat": 4,
 "nbformat_minor": 5
}
